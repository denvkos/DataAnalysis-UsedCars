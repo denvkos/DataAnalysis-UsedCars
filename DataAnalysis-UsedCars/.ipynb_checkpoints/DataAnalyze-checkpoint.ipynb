{
 "cells": [
  {
   "cell_type": "code",
   "execution_count": 2,
   "metadata": {},
   "outputs": [],
   "source": [
    "import pandas as pd\n",
    "import numpy as np\n",
    "import matplotlib.pylab as plt\n",
    "import seaborn as sns\n",
    "from scipy import stats"
   ]
  },
  {
   "cell_type": "code",
   "execution_count": 3,
   "metadata": {},
   "outputs": [],
   "source": [
    "filename = \"data_clean.csv\""
   ]
  },
  {
   "cell_type": "code",
   "execution_count": 4,
   "metadata": {},
   "outputs": [
    {
     "ename": "FileNotFoundError",
     "evalue": "[Errno 2] File b'data_clean.csv' does not exist: b'data_clean.csv'",
     "output_type": "error",
     "traceback": [
      "\u001b[1;31m---------------------------------------------------------------------------\u001b[0m",
      "\u001b[1;31mFileNotFoundError\u001b[0m                         Traceback (most recent call last)",
      "\u001b[1;32m<ipython-input-4-1283b210c371>\u001b[0m in \u001b[0;36m<module>\u001b[1;34m\u001b[0m\n\u001b[1;32m----> 1\u001b[1;33m \u001b[0mdf\u001b[0m \u001b[1;33m=\u001b[0m \u001b[0mpd\u001b[0m\u001b[1;33m.\u001b[0m\u001b[0mread_csv\u001b[0m\u001b[1;33m(\u001b[0m\u001b[0mfilename\u001b[0m\u001b[1;33m)\u001b[0m\u001b[1;33m\u001b[0m\u001b[1;33m\u001b[0m\u001b[0m\n\u001b[0m\u001b[0;32m      2\u001b[0m \u001b[0mdf\u001b[0m\u001b[1;33m.\u001b[0m\u001b[0mhead\u001b[0m\u001b[1;33m(\u001b[0m\u001b[1;33m)\u001b[0m\u001b[1;33m\u001b[0m\u001b[1;33m\u001b[0m\u001b[0m\n",
      "\u001b[1;32m~\\Anaconda3\\lib\\site-packages\\pandas\\io\\parsers.py\u001b[0m in \u001b[0;36mparser_f\u001b[1;34m(filepath_or_buffer, sep, delimiter, header, names, index_col, usecols, squeeze, prefix, mangle_dupe_cols, dtype, engine, converters, true_values, false_values, skipinitialspace, skiprows, skipfooter, nrows, na_values, keep_default_na, na_filter, verbose, skip_blank_lines, parse_dates, infer_datetime_format, keep_date_col, date_parser, dayfirst, iterator, chunksize, compression, thousands, decimal, lineterminator, quotechar, quoting, doublequote, escapechar, comment, encoding, dialect, tupleize_cols, error_bad_lines, warn_bad_lines, delim_whitespace, low_memory, memory_map, float_precision)\u001b[0m\n\u001b[0;32m    700\u001b[0m                     skip_blank_lines=skip_blank_lines)\n\u001b[0;32m    701\u001b[0m \u001b[1;33m\u001b[0m\u001b[0m\n\u001b[1;32m--> 702\u001b[1;33m         \u001b[1;32mreturn\u001b[0m \u001b[0m_read\u001b[0m\u001b[1;33m(\u001b[0m\u001b[0mfilepath_or_buffer\u001b[0m\u001b[1;33m,\u001b[0m \u001b[0mkwds\u001b[0m\u001b[1;33m)\u001b[0m\u001b[1;33m\u001b[0m\u001b[1;33m\u001b[0m\u001b[0m\n\u001b[0m\u001b[0;32m    703\u001b[0m \u001b[1;33m\u001b[0m\u001b[0m\n\u001b[0;32m    704\u001b[0m     \u001b[0mparser_f\u001b[0m\u001b[1;33m.\u001b[0m\u001b[0m__name__\u001b[0m \u001b[1;33m=\u001b[0m \u001b[0mname\u001b[0m\u001b[1;33m\u001b[0m\u001b[1;33m\u001b[0m\u001b[0m\n",
      "\u001b[1;32m~\\Anaconda3\\lib\\site-packages\\pandas\\io\\parsers.py\u001b[0m in \u001b[0;36m_read\u001b[1;34m(filepath_or_buffer, kwds)\u001b[0m\n\u001b[0;32m    427\u001b[0m \u001b[1;33m\u001b[0m\u001b[0m\n\u001b[0;32m    428\u001b[0m     \u001b[1;31m# Create the parser.\u001b[0m\u001b[1;33m\u001b[0m\u001b[1;33m\u001b[0m\u001b[1;33m\u001b[0m\u001b[0m\n\u001b[1;32m--> 429\u001b[1;33m     \u001b[0mparser\u001b[0m \u001b[1;33m=\u001b[0m \u001b[0mTextFileReader\u001b[0m\u001b[1;33m(\u001b[0m\u001b[0mfilepath_or_buffer\u001b[0m\u001b[1;33m,\u001b[0m \u001b[1;33m**\u001b[0m\u001b[0mkwds\u001b[0m\u001b[1;33m)\u001b[0m\u001b[1;33m\u001b[0m\u001b[1;33m\u001b[0m\u001b[0m\n\u001b[0m\u001b[0;32m    430\u001b[0m \u001b[1;33m\u001b[0m\u001b[0m\n\u001b[0;32m    431\u001b[0m     \u001b[1;32mif\u001b[0m \u001b[0mchunksize\u001b[0m \u001b[1;32mor\u001b[0m \u001b[0miterator\u001b[0m\u001b[1;33m:\u001b[0m\u001b[1;33m\u001b[0m\u001b[1;33m\u001b[0m\u001b[0m\n",
      "\u001b[1;32m~\\Anaconda3\\lib\\site-packages\\pandas\\io\\parsers.py\u001b[0m in \u001b[0;36m__init__\u001b[1;34m(self, f, engine, **kwds)\u001b[0m\n\u001b[0;32m    893\u001b[0m             \u001b[0mself\u001b[0m\u001b[1;33m.\u001b[0m\u001b[0moptions\u001b[0m\u001b[1;33m[\u001b[0m\u001b[1;34m'has_index_names'\u001b[0m\u001b[1;33m]\u001b[0m \u001b[1;33m=\u001b[0m \u001b[0mkwds\u001b[0m\u001b[1;33m[\u001b[0m\u001b[1;34m'has_index_names'\u001b[0m\u001b[1;33m]\u001b[0m\u001b[1;33m\u001b[0m\u001b[1;33m\u001b[0m\u001b[0m\n\u001b[0;32m    894\u001b[0m \u001b[1;33m\u001b[0m\u001b[0m\n\u001b[1;32m--> 895\u001b[1;33m         \u001b[0mself\u001b[0m\u001b[1;33m.\u001b[0m\u001b[0m_make_engine\u001b[0m\u001b[1;33m(\u001b[0m\u001b[0mself\u001b[0m\u001b[1;33m.\u001b[0m\u001b[0mengine\u001b[0m\u001b[1;33m)\u001b[0m\u001b[1;33m\u001b[0m\u001b[1;33m\u001b[0m\u001b[0m\n\u001b[0m\u001b[0;32m    896\u001b[0m \u001b[1;33m\u001b[0m\u001b[0m\n\u001b[0;32m    897\u001b[0m     \u001b[1;32mdef\u001b[0m \u001b[0mclose\u001b[0m\u001b[1;33m(\u001b[0m\u001b[0mself\u001b[0m\u001b[1;33m)\u001b[0m\u001b[1;33m:\u001b[0m\u001b[1;33m\u001b[0m\u001b[1;33m\u001b[0m\u001b[0m\n",
      "\u001b[1;32m~\\Anaconda3\\lib\\site-packages\\pandas\\io\\parsers.py\u001b[0m in \u001b[0;36m_make_engine\u001b[1;34m(self, engine)\u001b[0m\n\u001b[0;32m   1120\u001b[0m     \u001b[1;32mdef\u001b[0m \u001b[0m_make_engine\u001b[0m\u001b[1;33m(\u001b[0m\u001b[0mself\u001b[0m\u001b[1;33m,\u001b[0m \u001b[0mengine\u001b[0m\u001b[1;33m=\u001b[0m\u001b[1;34m'c'\u001b[0m\u001b[1;33m)\u001b[0m\u001b[1;33m:\u001b[0m\u001b[1;33m\u001b[0m\u001b[1;33m\u001b[0m\u001b[0m\n\u001b[0;32m   1121\u001b[0m         \u001b[1;32mif\u001b[0m \u001b[0mengine\u001b[0m \u001b[1;33m==\u001b[0m \u001b[1;34m'c'\u001b[0m\u001b[1;33m:\u001b[0m\u001b[1;33m\u001b[0m\u001b[1;33m\u001b[0m\u001b[0m\n\u001b[1;32m-> 1122\u001b[1;33m             \u001b[0mself\u001b[0m\u001b[1;33m.\u001b[0m\u001b[0m_engine\u001b[0m \u001b[1;33m=\u001b[0m \u001b[0mCParserWrapper\u001b[0m\u001b[1;33m(\u001b[0m\u001b[0mself\u001b[0m\u001b[1;33m.\u001b[0m\u001b[0mf\u001b[0m\u001b[1;33m,\u001b[0m \u001b[1;33m**\u001b[0m\u001b[0mself\u001b[0m\u001b[1;33m.\u001b[0m\u001b[0moptions\u001b[0m\u001b[1;33m)\u001b[0m\u001b[1;33m\u001b[0m\u001b[1;33m\u001b[0m\u001b[0m\n\u001b[0m\u001b[0;32m   1123\u001b[0m         \u001b[1;32melse\u001b[0m\u001b[1;33m:\u001b[0m\u001b[1;33m\u001b[0m\u001b[1;33m\u001b[0m\u001b[0m\n\u001b[0;32m   1124\u001b[0m             \u001b[1;32mif\u001b[0m \u001b[0mengine\u001b[0m \u001b[1;33m==\u001b[0m \u001b[1;34m'python'\u001b[0m\u001b[1;33m:\u001b[0m\u001b[1;33m\u001b[0m\u001b[1;33m\u001b[0m\u001b[0m\n",
      "\u001b[1;32m~\\Anaconda3\\lib\\site-packages\\pandas\\io\\parsers.py\u001b[0m in \u001b[0;36m__init__\u001b[1;34m(self, src, **kwds)\u001b[0m\n\u001b[0;32m   1851\u001b[0m         \u001b[0mkwds\u001b[0m\u001b[1;33m[\u001b[0m\u001b[1;34m'usecols'\u001b[0m\u001b[1;33m]\u001b[0m \u001b[1;33m=\u001b[0m \u001b[0mself\u001b[0m\u001b[1;33m.\u001b[0m\u001b[0musecols\u001b[0m\u001b[1;33m\u001b[0m\u001b[1;33m\u001b[0m\u001b[0m\n\u001b[0;32m   1852\u001b[0m \u001b[1;33m\u001b[0m\u001b[0m\n\u001b[1;32m-> 1853\u001b[1;33m         \u001b[0mself\u001b[0m\u001b[1;33m.\u001b[0m\u001b[0m_reader\u001b[0m \u001b[1;33m=\u001b[0m \u001b[0mparsers\u001b[0m\u001b[1;33m.\u001b[0m\u001b[0mTextReader\u001b[0m\u001b[1;33m(\u001b[0m\u001b[0msrc\u001b[0m\u001b[1;33m,\u001b[0m \u001b[1;33m**\u001b[0m\u001b[0mkwds\u001b[0m\u001b[1;33m)\u001b[0m\u001b[1;33m\u001b[0m\u001b[1;33m\u001b[0m\u001b[0m\n\u001b[0m\u001b[0;32m   1854\u001b[0m         \u001b[0mself\u001b[0m\u001b[1;33m.\u001b[0m\u001b[0munnamed_cols\u001b[0m \u001b[1;33m=\u001b[0m \u001b[0mself\u001b[0m\u001b[1;33m.\u001b[0m\u001b[0m_reader\u001b[0m\u001b[1;33m.\u001b[0m\u001b[0munnamed_cols\u001b[0m\u001b[1;33m\u001b[0m\u001b[1;33m\u001b[0m\u001b[0m\n\u001b[0;32m   1855\u001b[0m \u001b[1;33m\u001b[0m\u001b[0m\n",
      "\u001b[1;32mpandas/_libs/parsers.pyx\u001b[0m in \u001b[0;36mpandas._libs.parsers.TextReader.__cinit__\u001b[1;34m()\u001b[0m\n",
      "\u001b[1;32mpandas/_libs/parsers.pyx\u001b[0m in \u001b[0;36mpandas._libs.parsers.TextReader._setup_parser_source\u001b[1;34m()\u001b[0m\n",
      "\u001b[1;31mFileNotFoundError\u001b[0m: [Errno 2] File b'data_clean.csv' does not exist: b'data_clean.csv'"
     ]
    }
   ],
   "source": [
    "df = pd.read_csv(filename)\n",
    "df.head()"
   ]
  },
  {
   "cell_type": "code",
   "execution_count": 5,
   "metadata": {},
   "outputs": [],
   "source": [
    "%matplotlib inline\n",
    "import matplotlib as plt\n",
    "from matplotlib import pyplot"
   ]
  },
  {
   "cell_type": "code",
   "execution_count": 6,
   "metadata": {},
   "outputs": [
    {
     "data": {
      "text/plain": [
       "Text(0.5, 1.0, 'mileage bins')"
      ]
     },
     "execution_count": 6,
     "metadata": {},
     "output_type": "execute_result"
    },
    {
     "data": {
      "image/png": "[encoded data removed]",
      "text/plain": [
       "<Figure size 432x288 with 1 Axes>"
      ]
     },
     "metadata": {
      "needs_background": "light"
     },
     "output_type": "display_data"
    }
   ],
   "source": [
    "# Plotting mileage distribution\n",
    "plt.pyplot.hist(df[\"mileage\"])\n",
    "plt.pyplot.xlabel(\"meliage\")\n",
    "plt.pyplot.ylabel(\"count\")\n",
    "plt.pyplot.title(\"mileage bins\")"
   ]
  },
  {
   "cell_type": "code",
   "execution_count": 7,
   "metadata": {},
   "outputs": [
    {
     "data": {
      "text/plain": [
       "array([  0.        , 142.71428571, 285.42857143, 428.14285714,\n",
       "       570.85714286, 713.57142857, 856.28571429, 999.        ])"
      ]
     },
     "execution_count": 7,
     "metadata": {},
     "output_type": "execute_result"
    }
   ],
   "source": [
    "# Creating bins to plot mileage in more clear way\n",
    "bins=np.linspace(min(df[\"mileage\"]), max(df[\"mileage\"]), 8)\n",
    "#bins"
   ]
  },
  {
   "cell_type": "code",
   "execution_count": 8,
   "metadata": {},
   "outputs": [],
   "source": [
    "group_names = ['0-70', '71-140', '141-210', '211-280', '281-350', '351-420', '421-490']"
   ]
  },
  {
   "cell_type": "code",
   "execution_count": 9,
   "metadata": {},
   "outputs": [
    {
     "data": {
      "text/html": [
       "<div>\n",
       "<style scoped>\n",
       "    .dataframe tbody tr th:only-of-type {\n",
       "        vertical-align: middle;\n",
       "    }\n",
       "\n",
       "    .dataframe tbody tr th {\n",
       "        vertical-align: top;\n",
       "    }\n",
       "\n",
       "    .dataframe thead th {\n",
       "        text-align: right;\n",
       "    }\n",
       "</style>\n",
       "<table border=\"1\" class=\"dataframe\">\n",
       "  <thead>\n",
       "    <tr style=\"text-align: right;\">\n",
       "      <th></th>\n",
       "      <th>mileage</th>\n",
       "      <th>mileage-binned</th>\n",
       "    </tr>\n",
       "  </thead>\n",
       "  <tbody>\n",
       "    <tr>\n",
       "      <th>0</th>\n",
       "      <td>154.0</td>\n",
       "      <td>71-140</td>\n",
       "    </tr>\n",
       "    <tr>\n",
       "      <th>1</th>\n",
       "      <td>87.0</td>\n",
       "      <td>0-70</td>\n",
       "    </tr>\n",
       "    <tr>\n",
       "      <th>2</th>\n",
       "      <td>96.0</td>\n",
       "      <td>0-70</td>\n",
       "    </tr>\n",
       "    <tr>\n",
       "      <th>3</th>\n",
       "      <td>26.0</td>\n",
       "      <td>0-70</td>\n",
       "    </tr>\n",
       "    <tr>\n",
       "      <th>4</th>\n",
       "      <td>6.0</td>\n",
       "      <td>0-70</td>\n",
       "    </tr>\n",
       "    <tr>\n",
       "      <th>5</th>\n",
       "      <td>56.0</td>\n",
       "      <td>0-70</td>\n",
       "    </tr>\n",
       "    <tr>\n",
       "      <th>6</th>\n",
       "      <td>133.0</td>\n",
       "      <td>0-70</td>\n",
       "    </tr>\n",
       "    <tr>\n",
       "      <th>7</th>\n",
       "      <td>197.0</td>\n",
       "      <td>71-140</td>\n",
       "    </tr>\n",
       "    <tr>\n",
       "      <th>8</th>\n",
       "      <td>60.0</td>\n",
       "      <td>0-70</td>\n",
       "    </tr>\n",
       "    <tr>\n",
       "      <th>9</th>\n",
       "      <td>98.0</td>\n",
       "      <td>0-70</td>\n",
       "    </tr>\n",
       "    <tr>\n",
       "      <th>10</th>\n",
       "      <td>1.0</td>\n",
       "      <td>0-70</td>\n",
       "    </tr>\n",
       "    <tr>\n",
       "      <th>11</th>\n",
       "      <td>156.0</td>\n",
       "      <td>71-140</td>\n",
       "    </tr>\n",
       "    <tr>\n",
       "      <th>12</th>\n",
       "      <td>130.0</td>\n",
       "      <td>0-70</td>\n",
       "    </tr>\n",
       "    <tr>\n",
       "      <th>13</th>\n",
       "      <td>90.0</td>\n",
       "      <td>0-70</td>\n",
       "    </tr>\n",
       "    <tr>\n",
       "      <th>14</th>\n",
       "      <td>130.0</td>\n",
       "      <td>0-70</td>\n",
       "    </tr>\n",
       "    <tr>\n",
       "      <th>15</th>\n",
       "      <td>137.0</td>\n",
       "      <td>0-70</td>\n",
       "    </tr>\n",
       "    <tr>\n",
       "      <th>16</th>\n",
       "      <td>190.0</td>\n",
       "      <td>71-140</td>\n",
       "    </tr>\n",
       "    <tr>\n",
       "      <th>17</th>\n",
       "      <td>212.0</td>\n",
       "      <td>71-140</td>\n",
       "    </tr>\n",
       "    <tr>\n",
       "      <th>18</th>\n",
       "      <td>207.0</td>\n",
       "      <td>71-140</td>\n",
       "    </tr>\n",
       "    <tr>\n",
       "      <th>19</th>\n",
       "      <td>234.0</td>\n",
       "      <td>71-140</td>\n",
       "    </tr>\n",
       "  </tbody>\n",
       "</table>\n",
       "</div>"
      ],
      "text/plain": [
       "    mileage mileage-binned\n",
       "0     154.0         71-140\n",
       "1      87.0           0-70\n",
       "2      96.0           0-70\n",
       "3      26.0           0-70\n",
       "4       6.0           0-70\n",
       "5      56.0           0-70\n",
       "6     133.0           0-70\n",
       "7     197.0         71-140\n",
       "8      60.0           0-70\n",
       "9      98.0           0-70\n",
       "10      1.0           0-70\n",
       "11    156.0         71-140\n",
       "12    130.0           0-70\n",
       "13     90.0           0-70\n",
       "14    130.0           0-70\n",
       "15    137.0           0-70\n",
       "16    190.0         71-140\n",
       "17    212.0         71-140\n",
       "18    207.0         71-140\n",
       "19    234.0         71-140"
      ]
     },
     "execution_count": 9,
     "metadata": {},
     "output_type": "execute_result"
    }
   ],
   "source": [
    "df[\"mileage-binned\"] = pd.cut(df[\"mileage\"], bins, labels = group_names, include_lowest = True)\n",
    "#df[[\"mileage\", \"mileage-binned\"]].head(20)"
   ]
  },
  {
   "cell_type": "code",
   "execution_count": 10,
   "metadata": {},
   "outputs": [
    {
     "data": {
      "text/plain": [
       "71-140     1443\n",
       "0-70       1002\n",
       "141-210      95\n",
       "421-490       1\n",
       "211-280       1\n",
       "351-420       0\n",
       "281-350       0\n",
       "Name: mileage-binned, dtype: int64"
      ]
     },
     "execution_count": 10,
     "metadata": {},
     "output_type": "execute_result"
    }
   ],
   "source": [
    "# Checking values\n",
    "df[\"mileage-binned\"].value_counts()\n",
    "#(df[\"mileage-binned\"] == \"0-70\").sum()"
   ]
  },
  {
   "cell_type": "code",
   "execution_count": 12,
   "metadata": {},
   "outputs": [
    {
     "data": {
      "text/plain": [
       "['71-140', '0-70', '141-210', '211-280', '421-490', '281-350', '351-420']"
      ]
     },
     "execution_count": 12,
     "metadata": {},
     "output_type": "execute_result"
    }
   ],
   "source": [
    "#Preparing list of bins sorted by count of values\n",
    "group_names_sorted = sorted(group_names, key = lambda arg: (df[\"mileage-binned\"] == arg).sum(), reverse = True)\n",
    "#group_names_sorted"
   ]
  },
  {
   "cell_type": "code",
   "execution_count": 13,
   "metadata": {},
   "outputs": [
    {
     "data": {
      "text/plain": [
       "Text(0.5, 1.0, 'mileage bins')"
      ]
     },
     "execution_count": 13,
     "metadata": {},
     "output_type": "execute_result"
    },
    {
     "data": {
      "image/png": "[encoded data removed]",
      "text/plain": [
       "<Figure size 432x288 with 1 Axes>"
      ]
     },
     "metadata": {
      "needs_background": "light"
     },
     "output_type": "display_data"
    }
   ],
   "source": [
    "pyplot.bar(group_names_sorted, df[\"mileage-binned\"].value_counts(), width=0.8)\n",
    "plt.pyplot.xlabel(\"mileage\")\n",
    "plt.pyplot.ylabel(\"count\")\n",
    "plt.pyplot.title(\"mileage bins\")"
   ]
  },
  {
   "cell_type": "code",
   "execution_count": 14,
   "metadata": {},
   "outputs": [],
   "source": [
    "# More simple way to get sorted bins \n",
    "mileage_summary = df[\"mileage-binned\"].value_counts()\n",
    "#mileage_summary\n",
    "#mileage_summary.index"
   ]
  },
  {
   "cell_type": "code",
   "execution_count": 16,
   "metadata": {},
   "outputs": [
    {
     "data": {
      "text/plain": [
       "Text(0.5, 1.0, 'mileage bins')"
      ]
     },
     "execution_count": 16,
     "metadata": {},
     "output_type": "execute_result"
    },
    {
     "data": {
      "image/png": "[encoded data removed]",
      "text/plain": [
       "<Figure size 432x288 with 1 Axes>"
      ]
     },
     "metadata": {
      "needs_background": "light"
     },
     "output_type": "display_data"
    }
   ],
   "source": [
    "pyplot.bar(mileage_summary.index, mileage_summary.values, width=0.8)\n",
    "plt.pyplot.xlabel(\"mileage\")\n",
    "plt.pyplot.ylabel(\"count\")\n",
    "plt.pyplot.title(\"mileage bins\")"
   ]
  },
  {
   "cell_type": "code",
   "execution_count": 17,
   "metadata": {},
   "outputs": [
    {
     "data": {
      "text/plain": [
       "<matplotlib.axes._subplots.AxesSubplot at 0x2864cfc5198>"
      ]
     },
     "execution_count": 17,
     "metadata": {},
     "output_type": "execute_result"
    },
    {
     "data": {
      "image/png": "[encoded data removed]",
      "text/plain": [
       "<Figure size 432x288 with 1 Axes>"
      ]
     },
     "metadata": {
      "needs_background": "light"
     },
     "output_type": "display_data"
    }
   ],
   "source": [
    "# Another way to plot the distribution using Series.plot\n",
    "s = pd.Series(df[\"mileage-binned\"].value_counts())\n",
    "s.plot(kind = 'bar', rot=0)"
   ]
  },
  {
   "cell_type": "code",
   "execution_count": 21,
   "metadata": {},
   "outputs": [
    {
     "data": {
      "text/html": [
       "<div>\n",
       "<style scoped>\n",
       "    .dataframe tbody tr th:only-of-type {\n",
       "        vertical-align: middle;\n",
       "    }\n",
       "\n",
       "    .dataframe tbody tr th {\n",
       "        vertical-align: top;\n",
       "    }\n",
       "\n",
       "    .dataframe thead th {\n",
       "        text-align: right;\n",
       "    }\n",
       "</style>\n",
       "<table border=\"1\" class=\"dataframe\">\n",
       "  <thead>\n",
       "    <tr style=\"text-align: right;\">\n",
       "      <th></th>\n",
       "      <th>Unnamed: 0</th>\n",
       "      <th>Unnamed: 0.1</th>\n",
       "      <th>year</th>\n",
       "      <th>price</th>\n",
       "      <th>mileage</th>\n",
       "      <th>engine_volume</th>\n",
       "      <th>body_type_id</th>\n",
       "      <th>color_id</th>\n",
       "      <th>damaged</th>\n",
       "      <th>repaired</th>\n",
       "      <th>price_usd</th>\n",
       "      <th>high_modification</th>\n",
       "      <th>diesel</th>\n",
       "      <th>gas</th>\n",
       "    </tr>\n",
       "  </thead>\n",
       "  <tbody>\n",
       "    <tr>\n",
       "      <th>Unnamed: 0</th>\n",
       "      <td>1.000000</td>\n",
       "      <td>0.999997</td>\n",
       "      <td>-0.092530</td>\n",
       "      <td>-0.014282</td>\n",
       "      <td>0.058321</td>\n",
       "      <td>-0.076066</td>\n",
       "      <td>0.000741</td>\n",
       "      <td>0.000471</td>\n",
       "      <td>0.000828</td>\n",
       "      <td>0.016512</td>\n",
       "      <td>-0.043195</td>\n",
       "      <td>0.080105</td>\n",
       "      <td>0.003003</td>\n",
       "      <td>-0.003003</td>\n",
       "    </tr>\n",
       "    <tr>\n",
       "      <th>Unnamed: 0.1</th>\n",
       "      <td>0.999997</td>\n",
       "      <td>1.000000</td>\n",
       "      <td>-0.092457</td>\n",
       "      <td>-0.014289</td>\n",
       "      <td>0.058261</td>\n",
       "      <td>-0.076075</td>\n",
       "      <td>0.000722</td>\n",
       "      <td>0.000531</td>\n",
       "      <td>0.000780</td>\n",
       "      <td>0.016652</td>\n",
       "      <td>-0.043123</td>\n",
       "      <td>0.079899</td>\n",
       "      <td>0.002914</td>\n",
       "      <td>-0.002914</td>\n",
       "    </tr>\n",
       "    <tr>\n",
       "      <th>year</th>\n",
       "      <td>-0.092530</td>\n",
       "      <td>-0.092457</td>\n",
       "      <td>1.000000</td>\n",
       "      <td>0.163431</td>\n",
       "      <td>-0.675520</td>\n",
       "      <td>0.068721</td>\n",
       "      <td>0.020463</td>\n",
       "      <td>0.151660</td>\n",
       "      <td>0.052970</td>\n",
       "      <td>-0.024511</td>\n",
       "      <td>0.821101</td>\n",
       "      <td>-0.154628</td>\n",
       "      <td>-0.208664</td>\n",
       "      <td>0.208664</td>\n",
       "    </tr>\n",
       "    <tr>\n",
       "      <th>price</th>\n",
       "      <td>-0.014282</td>\n",
       "      <td>-0.014289</td>\n",
       "      <td>0.163431</td>\n",
       "      <td>1.000000</td>\n",
       "      <td>-0.144411</td>\n",
       "      <td>-0.067879</td>\n",
       "      <td>0.003140</td>\n",
       "      <td>0.036452</td>\n",
       "      <td>-0.019092</td>\n",
       "      <td>-0.009909</td>\n",
       "      <td>0.230500</td>\n",
       "      <td>-0.060765</td>\n",
       "      <td>-0.088604</td>\n",
       "      <td>0.088604</td>\n",
       "    </tr>\n",
       "    <tr>\n",
       "      <th>mileage</th>\n",
       "      <td>0.058321</td>\n",
       "      <td>0.058261</td>\n",
       "      <td>-0.675520</td>\n",
       "      <td>-0.144411</td>\n",
       "      <td>1.000000</td>\n",
       "      <td>-0.076851</td>\n",
       "      <td>-0.039348</td>\n",
       "      <td>-0.105360</td>\n",
       "      <td>-0.050041</td>\n",
       "      <td>-0.021103</td>\n",
       "      <td>-0.654026</td>\n",
       "      <td>0.156573</td>\n",
       "      <td>0.450180</td>\n",
       "      <td>-0.450180</td>\n",
       "    </tr>\n",
       "    <tr>\n",
       "      <th>engine_volume</th>\n",
       "      <td>-0.076066</td>\n",
       "      <td>-0.076075</td>\n",
       "      <td>0.068721</td>\n",
       "      <td>-0.067879</td>\n",
       "      <td>-0.076851</td>\n",
       "      <td>1.000000</td>\n",
       "      <td>-0.034230</td>\n",
       "      <td>-0.096410</td>\n",
       "      <td>0.066695</td>\n",
       "      <td>-0.017748</td>\n",
       "      <td>0.115326</td>\n",
       "      <td>-0.104097</td>\n",
       "      <td>-0.046739</td>\n",
       "      <td>0.046739</td>\n",
       "    </tr>\n",
       "    <tr>\n",
       "      <th>body_type_id</th>\n",
       "      <td>0.000741</td>\n",
       "      <td>0.000722</td>\n",
       "      <td>0.020463</td>\n",
       "      <td>0.003140</td>\n",
       "      <td>-0.039348</td>\n",
       "      <td>-0.034230</td>\n",
       "      <td>1.000000</td>\n",
       "      <td>-0.023547</td>\n",
       "      <td>0.000444</td>\n",
       "      <td>0.000686</td>\n",
       "      <td>0.020846</td>\n",
       "      <td>0.008290</td>\n",
       "      <td>-0.049413</td>\n",
       "      <td>0.049413</td>\n",
       "    </tr>\n",
       "    <tr>\n",
       "      <th>color_id</th>\n",
       "      <td>0.000471</td>\n",
       "      <td>0.000531</td>\n",
       "      <td>0.151660</td>\n",
       "      <td>0.036452</td>\n",
       "      <td>-0.105360</td>\n",
       "      <td>-0.096410</td>\n",
       "      <td>-0.023547</td>\n",
       "      <td>1.000000</td>\n",
       "      <td>-0.007866</td>\n",
       "      <td>-0.025090</td>\n",
       "      <td>0.148389</td>\n",
       "      <td>-0.032928</td>\n",
       "      <td>-0.082335</td>\n",
       "      <td>0.082335</td>\n",
       "    </tr>\n",
       "    <tr>\n",
       "      <th>damaged</th>\n",
       "      <td>0.000828</td>\n",
       "      <td>0.000780</td>\n",
       "      <td>0.052970</td>\n",
       "      <td>-0.019092</td>\n",
       "      <td>-0.050041</td>\n",
       "      <td>0.066695</td>\n",
       "      <td>0.000444</td>\n",
       "      <td>-0.007866</td>\n",
       "      <td>1.000000</td>\n",
       "      <td>0.228795</td>\n",
       "      <td>-0.087712</td>\n",
       "      <td>-0.005895</td>\n",
       "      <td>-0.049343</td>\n",
       "      <td>0.049343</td>\n",
       "    </tr>\n",
       "    <tr>\n",
       "      <th>repaired</th>\n",
       "      <td>0.016512</td>\n",
       "      <td>0.016652</td>\n",
       "      <td>-0.024511</td>\n",
       "      <td>-0.009909</td>\n",
       "      <td>-0.021103</td>\n",
       "      <td>-0.017748</td>\n",
       "      <td>0.000686</td>\n",
       "      <td>-0.025090</td>\n",
       "      <td>0.228795</td>\n",
       "      <td>1.000000</td>\n",
       "      <td>-0.053735</td>\n",
       "      <td>0.022133</td>\n",
       "      <td>-0.028232</td>\n",
       "      <td>0.028232</td>\n",
       "    </tr>\n",
       "    <tr>\n",
       "      <th>price_usd</th>\n",
       "      <td>-0.043195</td>\n",
       "      <td>-0.043123</td>\n",
       "      <td>0.821101</td>\n",
       "      <td>0.230500</td>\n",
       "      <td>-0.654026</td>\n",
       "      <td>0.115326</td>\n",
       "      <td>0.020846</td>\n",
       "      <td>0.148389</td>\n",
       "      <td>-0.087712</td>\n",
       "      <td>-0.053735</td>\n",
       "      <td>1.000000</td>\n",
       "      <td>-0.183380</td>\n",
       "      <td>-0.235604</td>\n",
       "      <td>0.235604</td>\n",
       "    </tr>\n",
       "    <tr>\n",
       "      <th>high_modification</th>\n",
       "      <td>0.080105</td>\n",
       "      <td>0.079899</td>\n",
       "      <td>-0.154628</td>\n",
       "      <td>-0.060765</td>\n",
       "      <td>0.156573</td>\n",
       "      <td>-0.104097</td>\n",
       "      <td>0.008290</td>\n",
       "      <td>-0.032928</td>\n",
       "      <td>-0.005895</td>\n",
       "      <td>0.022133</td>\n",
       "      <td>-0.183380</td>\n",
       "      <td>1.000000</td>\n",
       "      <td>0.112970</td>\n",
       "      <td>-0.112970</td>\n",
       "    </tr>\n",
       "    <tr>\n",
       "      <th>diesel</th>\n",
       "      <td>0.003003</td>\n",
       "      <td>0.002914</td>\n",
       "      <td>-0.208664</td>\n",
       "      <td>-0.088604</td>\n",
       "      <td>0.450180</td>\n",
       "      <td>-0.046739</td>\n",
       "      <td>-0.049413</td>\n",
       "      <td>-0.082335</td>\n",
       "      <td>-0.049343</td>\n",
       "      <td>-0.028232</td>\n",
       "      <td>-0.235604</td>\n",
       "      <td>0.112970</td>\n",
       "      <td>1.000000</td>\n",
       "      <td>-1.000000</td>\n",
       "    </tr>\n",
       "    <tr>\n",
       "      <th>gas</th>\n",
       "      <td>-0.003003</td>\n",
       "      <td>-0.002914</td>\n",
       "      <td>0.208664</td>\n",
       "      <td>0.088604</td>\n",
       "      <td>-0.450180</td>\n",
       "      <td>0.046739</td>\n",
       "      <td>0.049413</td>\n",
       "      <td>0.082335</td>\n",
       "      <td>0.049343</td>\n",
       "      <td>0.028232</td>\n",
       "      <td>0.235604</td>\n",
       "      <td>-0.112970</td>\n",
       "      <td>-1.000000</td>\n",
       "      <td>1.000000</td>\n",
       "    </tr>\n",
       "  </tbody>\n",
       "</table>\n",
       "</div>"
      ],
      "text/plain": [
       "                   Unnamed: 0  Unnamed: 0.1      year     price   mileage  \\\n",
       "Unnamed: 0           1.000000      0.999997 -0.092530 -0.014282  0.058321   \n",
       "Unnamed: 0.1         0.999997      1.000000 -0.092457 -0.014289  0.058261   \n",
       "year                -0.092530     -0.092457  1.000000  0.163431 -0.675520   \n",
       "price               -0.014282     -0.014289  0.163431  1.000000 -0.144411   \n",
       "mileage              0.058321      0.058261 -0.675520 -0.144411  1.000000   \n",
       "engine_volume       -0.076066     -0.076075  0.068721 -0.067879 -0.076851   \n",
       "body_type_id         0.000741      0.000722  0.020463  0.003140 -0.039348   \n",
       "color_id             0.000471      0.000531  0.151660  0.036452 -0.105360   \n",
       "damaged              0.000828      0.000780  0.052970 -0.019092 -0.050041   \n",
       "repaired             0.016512      0.016652 -0.024511 -0.009909 -0.021103   \n",
       "price_usd           -0.043195     -0.043123  0.821101  0.230500 -0.654026   \n",
       "high_modification    0.080105      0.079899 -0.154628 -0.060765  0.156573   \n",
       "diesel               0.003003      0.002914 -0.208664 -0.088604  0.450180   \n",
       "gas                 -0.003003     -0.002914  0.208664  0.088604 -0.450180   \n",
       "\n",
       "                   engine_volume  body_type_id  color_id   damaged  repaired  \\\n",
       "Unnamed: 0             -0.076066      0.000741  0.000471  0.000828  0.016512   \n",
       "Unnamed: 0.1           -0.076075      0.000722  0.000531  0.000780  0.016652   \n",
       "year                    0.068721      0.020463  0.151660  0.052970 -0.024511   \n",
       "price                  -0.067879      0.003140  0.036452 -0.019092 -0.009909   \n",
       "mileage                -0.076851     -0.039348 -0.105360 -0.050041 -0.021103   \n",
       "engine_volume           1.000000     -0.034230 -0.096410  0.066695 -0.017748   \n",
       "body_type_id           -0.034230      1.000000 -0.023547  0.000444  0.000686   \n",
       "color_id               -0.096410     -0.023547  1.000000 -0.007866 -0.025090   \n",
       "damaged                 0.066695      0.000444 -0.007866  1.000000  0.228795   \n",
       "repaired               -0.017748      0.000686 -0.025090  0.228795  1.000000   \n",
       "price_usd               0.115326      0.020846  0.148389 -0.087712 -0.053735   \n",
       "high_modification      -0.104097      0.008290 -0.032928 -0.005895  0.022133   \n",
       "diesel                 -0.046739     -0.049413 -0.082335 -0.049343 -0.028232   \n",
       "gas                     0.046739      0.049413  0.082335  0.049343  0.028232   \n",
       "\n",
       "                   price_usd  high_modification    diesel       gas  \n",
       "Unnamed: 0         -0.043195           0.080105  0.003003 -0.003003  \n",
       "Unnamed: 0.1       -0.043123           0.079899  0.002914 -0.002914  \n",
       "year                0.821101          -0.154628 -0.208664  0.208664  \n",
       "price               0.230500          -0.060765 -0.088604  0.088604  \n",
       "mileage            -0.654026           0.156573  0.450180 -0.450180  \n",
       "engine_volume       0.115326          -0.104097 -0.046739  0.046739  \n",
       "body_type_id        0.020846           0.008290 -0.049413  0.049413  \n",
       "color_id            0.148389          -0.032928 -0.082335  0.082335  \n",
       "damaged            -0.087712          -0.005895 -0.049343  0.049343  \n",
       "repaired           -0.053735           0.022133 -0.028232  0.028232  \n",
       "price_usd           1.000000          -0.183380 -0.235604  0.235604  \n",
       "high_modification  -0.183380           1.000000  0.112970 -0.112970  \n",
       "diesel             -0.235604           0.112970  1.000000 -1.000000  \n",
       "gas                 0.235604          -0.112970 -1.000000  1.000000  "
      ]
     },
     "execution_count": 21,
     "metadata": {},
     "output_type": "execute_result"
    }
   ],
   "source": [
    "# Checking correlation between each feature\n",
    "df.corr()"
   ]
  },
  {
   "cell_type": "code",
   "execution_count": 22,
   "metadata": {},
   "outputs": [
    {
     "data": {
      "text/plain": [
       "<matplotlib.axes._subplots.AxesSubplot at 0x2864eded710>"
      ]
     },
     "execution_count": 22,
     "metadata": {},
     "output_type": "execute_result"
    },
    {
     "data": {
      "image/png": "[encoded data removed]",
      "text/plain": [
       "<Figure size 432x288 with 1 Axes>"
      ]
     },
     "metadata": {
      "needs_background": "light"
     },
     "output_type": "display_data"
    }
   ],
   "source": [
    "# Regression plot for year and price\n",
    "sns.regplot(x='year', y='price_usd', data=df)"
   ]
  },
  {
   "cell_type": "code",
   "execution_count": 28,
   "metadata": {},
   "outputs": [
    {
     "data": {
      "text/plain": [
       "<matplotlib.axes._subplots.AxesSubplot at 0x2864eef4160>"
      ]
     },
     "execution_count": 28,
     "metadata": {},
     "output_type": "execute_result"
    },
    {
     "data": {
      "image/png": "[encoded data removed]",
      "text/plain": [
       "<Figure size 432x288 with 1 Axes>"
      ]
     },
     "metadata": {
      "needs_background": "light"
     },
     "output_type": "display_data"
    }
   ],
   "source": [
    "# Regression plot for mileage and price\n",
    "sns.regplot(x=\"mileage\", y=\"price_usd\", data=df)"
   ]
  },
  {
   "cell_type": "code",
   "execution_count": 1,
   "metadata": {},
   "outputs": [
    {
     "ename": "NameError",
     "evalue": "name 'sns' is not defined",
     "output_type": "error",
     "traceback": [
      "\u001b[1;31m---------------------------------------------------------------------------\u001b[0m",
      "\u001b[1;31mNameError\u001b[0m                                 Traceback (most recent call last)",
      "\u001b[1;32m<ipython-input-1-321dd04de308>\u001b[0m in \u001b[0;36m<module>\u001b[1;34m\u001b[0m\n\u001b[1;32m----> 1\u001b[1;33m \u001b[0msns\u001b[0m\u001b[1;33m.\u001b[0m\u001b[0mboxplot\u001b[0m\u001b[1;33m(\u001b[0m\u001b[0mx\u001b[0m\u001b[1;33m=\u001b[0m\u001b[1;34m\"engine_volume\"\u001b[0m\u001b[1;33m,\u001b[0m \u001b[0my\u001b[0m\u001b[1;33m=\u001b[0m\u001b[1;34m\"price_usd\"\u001b[0m\u001b[1;33m,\u001b[0m \u001b[0mdata\u001b[0m\u001b[1;33m=\u001b[0m\u001b[0mdf\u001b[0m\u001b[1;33m)\u001b[0m\u001b[1;33m\u001b[0m\u001b[1;33m\u001b[0m\u001b[0m\n\u001b[0m",
      "\u001b[1;31mNameError\u001b[0m: name 'sns' is not defined"
     ]
    }
   ],
   "source": [
    "sns.boxplot(x=\"engine_volume\", y=\"price_usd\", data=df)"
   ]
  },
  {
   "cell_type": "code",
   "execution_count": 32,
   "metadata": {},
   "outputs": [
    {
     "data": {
      "text/html": [
       "<div>\n",
       "<style scoped>\n",
       "    .dataframe tbody tr th:only-of-type {\n",
       "        vertical-align: middle;\n",
       "    }\n",
       "\n",
       "    .dataframe tbody tr th {\n",
       "        vertical-align: top;\n",
       "    }\n",
       "\n",
       "    .dataframe thead th {\n",
       "        text-align: right;\n",
       "    }\n",
       "</style>\n",
       "<table border=\"1\" class=\"dataframe\">\n",
       "  <thead>\n",
       "    <tr style=\"text-align: right;\">\n",
       "      <th></th>\n",
       "      <th>engine_volume</th>\n",
       "      <th>body_type</th>\n",
       "      <th>price_usd</th>\n",
       "    </tr>\n",
       "  </thead>\n",
       "  <tbody>\n",
       "    <tr>\n",
       "      <th>0</th>\n",
       "      <td>1.0</td>\n",
       "      <td>hatchback</td>\n",
       "      <td>9004.043478</td>\n",
       "    </tr>\n",
       "    <tr>\n",
       "      <th>1</th>\n",
       "      <td>1.0</td>\n",
       "      <td>liftbek</td>\n",
       "      <td>9900.000000</td>\n",
       "    </tr>\n",
       "    <tr>\n",
       "      <th>2</th>\n",
       "      <td>1.0</td>\n",
       "      <td>sedan</td>\n",
       "      <td>9319.456140</td>\n",
       "    </tr>\n",
       "    <tr>\n",
       "      <th>3</th>\n",
       "      <td>1.0</td>\n",
       "      <td>wagon</td>\n",
       "      <td>9481.476190</td>\n",
       "    </tr>\n",
       "    <tr>\n",
       "      <th>4</th>\n",
       "      <td>1.6</td>\n",
       "      <td>hatchback</td>\n",
       "      <td>9554.217391</td>\n",
       "    </tr>\n",
       "    <tr>\n",
       "      <th>5</th>\n",
       "      <td>1.6</td>\n",
       "      <td>sedan</td>\n",
       "      <td>9118.500000</td>\n",
       "    </tr>\n",
       "    <tr>\n",
       "      <th>6</th>\n",
       "      <td>1.6</td>\n",
       "      <td>wagon</td>\n",
       "      <td>9143.087087</td>\n",
       "    </tr>\n",
       "    <tr>\n",
       "      <th>7</th>\n",
       "      <td>2.0</td>\n",
       "      <td>hatchback</td>\n",
       "      <td>10259.925000</td>\n",
       "    </tr>\n",
       "    <tr>\n",
       "      <th>8</th>\n",
       "      <td>2.0</td>\n",
       "      <td>sedan</td>\n",
       "      <td>9105.734694</td>\n",
       "    </tr>\n",
       "    <tr>\n",
       "      <th>9</th>\n",
       "      <td>2.0</td>\n",
       "      <td>wagon</td>\n",
       "      <td>10443.571429</td>\n",
       "    </tr>\n",
       "  </tbody>\n",
       "</table>\n",
       "</div>"
      ],
      "text/plain": [
       "   engine_volume  body_type     price_usd\n",
       "0            1.0  hatchback   9004.043478\n",
       "1            1.0    liftbek   9900.000000\n",
       "2            1.0      sedan   9319.456140\n",
       "3            1.0      wagon   9481.476190\n",
       "4            1.6  hatchback   9554.217391\n",
       "5            1.6      sedan   9118.500000\n",
       "6            1.6      wagon   9143.087087\n",
       "7            2.0  hatchback  10259.925000\n",
       "8            2.0      sedan   9105.734694\n",
       "9            2.0      wagon  10443.571429"
      ]
     },
     "execution_count": 32,
     "metadata": {},
     "output_type": "execute_result"
    }
   ],
   "source": [
    "# Grouping data by engine volume and body type\n",
    "df_volume_body=df[['engine_volume', 'body_type', 'price_usd']]\n",
    "df_grouped=df_volume_body.groupby(['engine_volume', 'body_type'], as_index=False).mean()\n",
    "df_grouped"
   ]
  },
  {
   "cell_type": "code",
   "execution_count": 33,
   "metadata": {},
   "outputs": [
    {
     "data": {
      "text/html": [
       "<div>\n",
       "<style scoped>\n",
       "    .dataframe tbody tr th:only-of-type {\n",
       "        vertical-align: middle;\n",
       "    }\n",
       "\n",
       "    .dataframe tbody tr th {\n",
       "        vertical-align: top;\n",
       "    }\n",
       "\n",
       "    .dataframe thead tr th {\n",
       "        text-align: left;\n",
       "    }\n",
       "\n",
       "    .dataframe thead tr:last-of-type th {\n",
       "        text-align: right;\n",
       "    }\n",
       "</style>\n",
       "<table border=\"1\" class=\"dataframe\">\n",
       "  <thead>\n",
       "    <tr>\n",
       "      <th></th>\n",
       "      <th colspan=\"3\" halign=\"left\">price_usd</th>\n",
       "    </tr>\n",
       "    <tr>\n",
       "      <th>engine_volume</th>\n",
       "      <th>1.0</th>\n",
       "      <th>1.6</th>\n",
       "      <th>2.0</th>\n",
       "    </tr>\n",
       "    <tr>\n",
       "      <th>body_type</th>\n",
       "      <th></th>\n",
       "      <th></th>\n",
       "      <th></th>\n",
       "    </tr>\n",
       "  </thead>\n",
       "  <tbody>\n",
       "    <tr>\n",
       "      <th>hatchback</th>\n",
       "      <td>9004.043478</td>\n",
       "      <td>9554.217391</td>\n",
       "      <td>10259.925000</td>\n",
       "    </tr>\n",
       "    <tr>\n",
       "      <th>liftbek</th>\n",
       "      <td>9900.000000</td>\n",
       "      <td>NaN</td>\n",
       "      <td>NaN</td>\n",
       "    </tr>\n",
       "    <tr>\n",
       "      <th>sedan</th>\n",
       "      <td>9319.456140</td>\n",
       "      <td>9118.500000</td>\n",
       "      <td>9105.734694</td>\n",
       "    </tr>\n",
       "    <tr>\n",
       "      <th>wagon</th>\n",
       "      <td>9481.476190</td>\n",
       "      <td>9143.087087</td>\n",
       "      <td>10443.571429</td>\n",
       "    </tr>\n",
       "  </tbody>\n",
       "</table>\n",
       "</div>"
      ],
      "text/plain": [
       "                 price_usd                           \n",
       "engine_volume          1.0          1.6           2.0\n",
       "body_type                                            \n",
       "hatchback      9004.043478  9554.217391  10259.925000\n",
       "liftbek        9900.000000          NaN           NaN\n",
       "sedan          9319.456140  9118.500000   9105.734694\n",
       "wagon          9481.476190  9143.087087  10443.571429"
      ]
     },
     "execution_count": 33,
     "metadata": {},
     "output_type": "execute_result"
    }
   ],
   "source": [
    "# Grouping as pivot table\n",
    "grouped_pivot=df_grouped.pivot(index='body_type', columns='engine_volume')\n",
    "grouped_pivot"
   ]
  },
  {
   "cell_type": "code",
   "execution_count": 34,
   "metadata": {},
   "outputs": [],
   "source": [
    "import matplotlib.pyplot as plt\n",
    "%matplotlib inline "
   ]
  },
  {
   "cell_type": "code",
   "execution_count": 36,
   "metadata": {},
   "outputs": [
    {
     "data": {
      "image/png": "[encoded data removed]",
      "text/plain": [
       "<Figure size 432x288 with 2 Axes>"
      ]
     },
     "metadata": {
      "needs_background": "light"
     },
     "output_type": "display_data"
    }
   ],
   "source": [
    "# Heatmap \n",
    "fig, ax = plt.subplots()\n",
    "im = ax.pcolor(grouped_pivot, cmap='RdBu')\n",
    "\n",
    "#label names\n",
    "row_labels = grouped_pivot.columns.levels[1]\n",
    "col_labels = grouped_pivot.index\n",
    "\n",
    "#move ticks and labels to the center\n",
    "ax.set_xticks(np.arange(grouped_pivot.shape[1]) + 0.5, minor=False)\n",
    "ax.set_yticks(np.arange(grouped_pivot.shape[0]) + 0.5, minor=False)\n",
    "\n",
    "#insert labels\n",
    "ax.set_xticklabels(row_labels, minor=False)\n",
    "ax.set_yticklabels(col_labels, minor=False)\n",
    "\n",
    "#rotate label if too long\n",
    "#plt.xticks(rotation=90)\n",
    "\n",
    "fig.colorbar(im)\n",
    "plt.show()"
   ]
  },
  {
   "cell_type": "code",
   "execution_count": 38,
   "metadata": {},
   "outputs": [
    {
     "name": "stdout",
     "output_type": "stream",
     "text": [
      "The Pearson Correlarion Coefficient is  -0.2166497156991409  with a P-value of P=  9.837802731980709e-05\n"
     ]
    }
   ],
   "source": [
    "# Pearson correlation\n",
    "pearson_coef, p_value = stats.pearsonr(df['mileage'], df['price_usd'])\n",
    "print('The Pearson Correlarion Coefficient is ', pearson_coef, ' with a P-value of P= ', p_value)"
   ]
  }
 ],
 "metadata": {
  "kernelspec": {
   "display_name": "Python 3",
   "language": "python",
   "name": "python3"
  },
  "language_info": {
   "codemirror_mode": {
    "name": "ipython",
    "version": 3
   },
   "file_extension": ".py",
   "mimetype": "text/x-python",
   "name": "python",
   "nbconvert_exporter": "python",
   "pygments_lexer": "ipython3",
   "version": "3.7.3"
  }
 },
 "nbformat": 4,
 "nbformat_minor": 2
}
