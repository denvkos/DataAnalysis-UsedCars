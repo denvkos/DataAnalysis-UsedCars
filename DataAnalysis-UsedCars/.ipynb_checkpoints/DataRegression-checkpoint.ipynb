{
 "cells": [
  {
   "cell_type": "code",
   "execution_count": 1,
   "metadata": {},
   "outputs": [],
   "source": [
    "import pandas as pd\n",
    "import numpy as np\n",
    "import matplotlib.pyplot as plt\n",
    "import seaborn as sns\n",
    "from sklearn.linear_model import LinearRegression\n",
    "from sklearn.preprocessing import PolynomialFeatures\n",
    "from sklearn.pipeline import Pipeline\n",
    "from sklearn.preprocessing import StandardScaler\n",
    "from sklearn.metrics import mean_squared_error"
   ]
  },
  {
   "cell_type": "code",
   "execution_count": 2,
   "metadata": {},
   "outputs": [],
   "source": [
    "# Reading data\n",
    "filename = \"data_clean.csv\"\n",
    "df = pd.read_csv(filename)\n",
    "#df.head()"
   ]
  },
  {
   "cell_type": "code",
   "execution_count": 5,
   "metadata": {},
   "outputs": [
    {
     "data": {
      "text/html": [
       "<div>\n",
       "<style scoped>\n",
       "    .dataframe tbody tr th:only-of-type {\n",
       "        vertical-align: middle;\n",
       "    }\n",
       "\n",
       "    .dataframe tbody tr th {\n",
       "        vertical-align: top;\n",
       "    }\n",
       "\n",
       "    .dataframe thead th {\n",
       "        text-align: right;\n",
       "    }\n",
       "</style>\n",
       "<table border=\"1\" class=\"dataframe\">\n",
       "  <thead>\n",
       "    <tr style=\"text-align: right;\">\n",
       "      <th></th>\n",
       "      <th>Unnamed: 0</th>\n",
       "      <th>Unnamed: 0.1</th>\n",
       "      <th>mark</th>\n",
       "      <th>model</th>\n",
       "      <th>modification</th>\n",
       "      <th>year</th>\n",
       "      <th>price</th>\n",
       "      <th>currency</th>\n",
       "      <th>mileage</th>\n",
       "      <th>engine</th>\n",
       "      <th>...</th>\n",
       "      <th>gas</th>\n",
       "      <th>automatic</th>\n",
       "      <th>manual</th>\n",
       "      <th>convertible</th>\n",
       "      <th>coupe</th>\n",
       "      <th>hatchback</th>\n",
       "      <th>liftbek</th>\n",
       "      <th>sedan</th>\n",
       "      <th>vnedorozhnik-krossover</th>\n",
       "      <th>wagon</th>\n",
       "    </tr>\n",
       "  </thead>\n",
       "  <tbody>\n",
       "    <tr>\n",
       "      <th>0</th>\n",
       "      <td>0</td>\n",
       "      <td>0</td>\n",
       "      <td>Ford</td>\n",
       "      <td>Focus</td>\n",
       "      <td>SE</td>\n",
       "      <td>2014</td>\n",
       "      <td>7999</td>\n",
       "      <td>USD</td>\n",
       "      <td>154.0</td>\n",
       "      <td>Бензин, 2 л.</td>\n",
       "      <td>...</td>\n",
       "      <td>1</td>\n",
       "      <td>1</td>\n",
       "      <td>0</td>\n",
       "      <td>0</td>\n",
       "      <td>0</td>\n",
       "      <td>0</td>\n",
       "      <td>0</td>\n",
       "      <td>1</td>\n",
       "      <td>0</td>\n",
       "      <td>0</td>\n",
       "    </tr>\n",
       "    <tr>\n",
       "      <th>1</th>\n",
       "      <td>1</td>\n",
       "      <td>1</td>\n",
       "      <td>Ford</td>\n",
       "      <td>Focus</td>\n",
       "      <td>FLEX FUEL</td>\n",
       "      <td>2014</td>\n",
       "      <td>9650</td>\n",
       "      <td>USD</td>\n",
       "      <td>87.0</td>\n",
       "      <td>Бензин, 2 л.</td>\n",
       "      <td>...</td>\n",
       "      <td>1</td>\n",
       "      <td>1</td>\n",
       "      <td>0</td>\n",
       "      <td>0</td>\n",
       "      <td>0</td>\n",
       "      <td>0</td>\n",
       "      <td>0</td>\n",
       "      <td>1</td>\n",
       "      <td>0</td>\n",
       "      <td>0</td>\n",
       "    </tr>\n",
       "    <tr>\n",
       "      <th>2</th>\n",
       "      <td>2</td>\n",
       "      <td>2</td>\n",
       "      <td>Ford</td>\n",
       "      <td>Focus</td>\n",
       "      <td>SE</td>\n",
       "      <td>2014</td>\n",
       "      <td>10300</td>\n",
       "      <td>USD</td>\n",
       "      <td>96.0</td>\n",
       "      <td>2 л.</td>\n",
       "      <td>...</td>\n",
       "      <td>1</td>\n",
       "      <td>1</td>\n",
       "      <td>0</td>\n",
       "      <td>0</td>\n",
       "      <td>0</td>\n",
       "      <td>1</td>\n",
       "      <td>0</td>\n",
       "      <td>0</td>\n",
       "      <td>0</td>\n",
       "      <td>0</td>\n",
       "    </tr>\n",
       "    <tr>\n",
       "      <th>3</th>\n",
       "      <td>3</td>\n",
       "      <td>3</td>\n",
       "      <td>Ford</td>\n",
       "      <td>Focus</td>\n",
       "      <td>NaN</td>\n",
       "      <td>2017</td>\n",
       "      <td>10800</td>\n",
       "      <td>USD</td>\n",
       "      <td>26.0</td>\n",
       "      <td>Бензин, 2 л.</td>\n",
       "      <td>...</td>\n",
       "      <td>1</td>\n",
       "      <td>1</td>\n",
       "      <td>0</td>\n",
       "      <td>0</td>\n",
       "      <td>0</td>\n",
       "      <td>0</td>\n",
       "      <td>0</td>\n",
       "      <td>1</td>\n",
       "      <td>0</td>\n",
       "      <td>0</td>\n",
       "    </tr>\n",
       "    <tr>\n",
       "      <th>4</th>\n",
       "      <td>4</td>\n",
       "      <td>4</td>\n",
       "      <td>Ford</td>\n",
       "      <td>Focus</td>\n",
       "      <td>SE</td>\n",
       "      <td>2018</td>\n",
       "      <td>12400</td>\n",
       "      <td>USD</td>\n",
       "      <td>6.0</td>\n",
       "      <td>Бензин, 2 л.</td>\n",
       "      <td>...</td>\n",
       "      <td>1</td>\n",
       "      <td>1</td>\n",
       "      <td>0</td>\n",
       "      <td>0</td>\n",
       "      <td>0</td>\n",
       "      <td>1</td>\n",
       "      <td>0</td>\n",
       "      <td>0</td>\n",
       "      <td>0</td>\n",
       "      <td>0</td>\n",
       "    </tr>\n",
       "  </tbody>\n",
       "</table>\n",
       "<p>5 rows × 32 columns</p>\n",
       "</div>"
      ],
      "text/plain": [
       "   Unnamed: 0  Unnamed: 0.1  mark  model modification  year  price currency  \\\n",
       "0           0             0  Ford  Focus          SE   2014   7999      USD   \n",
       "1           1             1  Ford  Focus    FLEX FUEL  2014   9650      USD   \n",
       "2           2             2  Ford  Focus           SE  2014  10300      USD   \n",
       "3           3             3  Ford  Focus          NaN  2017  10800      USD   \n",
       "4           4             4  Ford  Focus         SE    2018  12400      USD   \n",
       "\n",
       "   mileage          engine  ...  gas automatic manual  convertible coupe  \\\n",
       "0    154.0   Бензин, 2 л.   ...    1         1      0            0     0   \n",
       "1     87.0   Бензин, 2 л.   ...    1         1      0            0     0   \n",
       "2     96.0           2 л.   ...    1         1      0            0     0   \n",
       "3     26.0   Бензин, 2 л.   ...    1         1      0            0     0   \n",
       "4      6.0   Бензин, 2 л.   ...    1         1      0            0     0   \n",
       "\n",
       "   hatchback liftbek  sedan  vnedorozhnik-krossover  wagon  \n",
       "0          0       0      1                       0      0  \n",
       "1          0       0      1                       0      0  \n",
       "2          1       0      0                       0      0  \n",
       "3          0       0      1                       0      0  \n",
       "4          1       0      0                       0      0  \n",
       "\n",
       "[5 rows x 32 columns]"
      ]
     },
     "execution_count": 5,
     "metadata": {},
     "output_type": "execute_result"
    }
   ],
   "source": [
    "# Preparing text features as columns of 1s and 0s\n",
    "dummy_var_fuel = pd.get_dummies(df[\"fuel\"])\n",
    "dummy_var_transmission = pd.get_dummies(df[\"transmission\"])\n",
    "dummy_var_body = pd.get_dummies(df[\"body_type\"])\n",
    "# Adding new columns to the dataframe\n",
    "df = pd.concat([df, dummy_var_fuel, dummy_var_transmission, dummy_var_body], axis = 1)\n",
    "#df.head()"
   ]
  },
  {
   "cell_type": "code",
   "execution_count": null,
   "metadata": {},
   "outputs": [],
   "source": [
    "# Creating linear regression object\n",
    "lm = LinearRegression()\n",
    "#lm"
   ]
  },
  {
   "cell_type": "code",
   "execution_count": null,
   "metadata": {},
   "outputs": [],
   "source": [
    "# Preparing list of independent and dependent variables\n",
    "Z = df[['mark','model','year','mileage','diesel','gas','engine_volume','automatic','manual','convertible','coupe','hatchback','sedan','wagon']]\n",
    "#Z.shape\n",
    "Y=df['price_usd']"
   ]
  },
  {
   "cell_type": "code",
   "execution_count": null,
   "metadata": {},
   "outputs": [],
   "source": [
    "# Creating polynomial features object\n",
    "pf = PolynomialFeatures(degree=3,include_bias=False)\n",
    "#pf"
   ]
  },
  {
   "cell_type": "code",
   "execution_count": null,
   "metadata": {},
   "outputs": [],
   "source": [
    "Z_pf = pr.fit_transform(Z)\n",
    "#Z_pf.shape"
   ]
  },
  {
   "cell_type": "code",
   "execution_count": null,
   "metadata": {},
   "outputs": [],
   "source": [
    "# Fit the model\n",
    "lm.fit(Z_pf, Y)"
   ]
  },
  {
   "cell_type": "code",
   "execution_count": null,
   "metadata": {},
   "outputs": [],
   "source": [
    "# Run prediction\n",
    "Yhat = lm.predict(Z_pf)"
   ]
  },
  {
   "cell_type": "code",
   "execution_count": null,
   "metadata": {},
   "outputs": [],
   "source": [
    "# Distibution plot for actual and predicted values\n",
    "width=12\n",
    "height=10\n",
    "plt.figure(figsize = (width, height))\n",
    "ax1 = sns.distplot(Y, hist = False, color = 'r', label = 'Actual value')\n",
    "sns.distplot(Yhat, hist = False, color = 'b', label = 'Fitted value', ax = ax1)\n",
    "plt.title = 'Actual vs fitted'\n",
    "plt.xlabel('Price in USD')\n",
    "plt.ylabel('Proportion of cars')\n",
    "plt.show()\n",
    "plt.close()"
   ]
  },
  {
   "cell_type": "code",
   "execution_count": null,
   "metadata": {},
   "outputs": [],
   "source": [
    "# R squared\n",
    "R_2 = lm.score(Z_pf, Y)\n",
    "R_2"
   ]
  },
  {
   "cell_type": "code",
   "execution_count": null,
   "metadata": {},
   "outputs": [],
   "source": [
    "# Mean squared error\n",
    "mse = mean_squared_error(Y,Yhat)\n",
    "mse"
   ]
  },
  {
   "cell_type": "code",
   "execution_count": null,
   "metadata": {},
   "outputs": [],
   "source": [
    "# Parameters of your car \n",
    "#['mark','model','year','mileage','diesel','gas','engine_volume','automatic','manual','convertible','coupe','hatchback','sedan','wagon']\n",
    "my_car=np.array(['Ford','Focus',2013,120,1,0,2.0,1,0,0,0,0,0,1]).reshape(1,-1)\n",
    "#my_car.astype"
   ]
  },
  {
   "cell_type": "code",
   "execution_count": null,
   "metadata": {},
   "outputs": [],
   "source": [
    "# Polynomial features for my car\n",
    "my_car_pf=pf.fit_transform(my_car)"
   ]
  },
  {
   "cell_type": "code",
   "execution_count": null,
   "metadata": {},
   "outputs": [],
   "source": [
    "# Price prediction\n",
    "my_car_price=lm.predict(my_car_pf)\n",
    "my_car_price"
   ]
  }
 ],
 "metadata": {
  "kernelspec": {
   "display_name": "Python 3",
   "language": "python",
   "name": "python3"
  },
  "language_info": {
   "codemirror_mode": {
    "name": "ipython",
    "version": 3
   },
   "file_extension": ".py",
   "mimetype": "text/x-python",
   "name": "python",
   "nbconvert_exporter": "python",
   "pygments_lexer": "ipython3",
   "version": "3.7.3"
  }
 },
 "nbformat": 4,
 "nbformat_minor": 2
}
